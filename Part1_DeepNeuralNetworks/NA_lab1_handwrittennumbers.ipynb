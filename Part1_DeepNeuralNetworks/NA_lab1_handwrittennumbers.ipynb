{
 "cells": [
  {
   "cell_type": "code",
   "execution_count": 2,
   "metadata": {},
   "outputs": [],
   "source": [
    "from tensorflow import keras\n",
    "import numpy as np\n",
    "import matplotlib.pyplot as plt\n",
    "import tensorflow as tf"
   ]
  },
  {
   "cell_type": "markdown",
   "metadata": {},
   "source": [
    "### Data preparation "
   ]
  },
  {
   "cell_type": "code",
   "execution_count": null,
   "metadata": {},
   "outputs": [],
   "source": [
    "from tensorflow import keras\n",
    "import numpy as np\n",
    "import matplotlib.pyplot as plt\n",
    "import tensorflow as tf\n",
    "#Data preparation\n",
    "(x_train, y_train),(x_test, y_test)=keras.datasets.mnist.load_data()\n",
    "# reshape\n",
    "x_train = np.reshape(x_train, (60000, 784))\n",
    "x_test = np.reshape(x_test, (10000, 784))\n",
    "# rescale to values between 0 and 1 \n",
    "x_train = x_train/255\n",
    "x_test = x_test/255\n",
    "y_train=keras.utils.to_categorical(y_train, 10)\n",
    "y_test=keras.utils.to_categorical(y_test, 10)\n",
    "#Model definition\n",
    "model = keras.Sequential()\n",
    "model.add(keras.layers.Dense(256, input_shape=(784,)))\n",
    "model.add(keras.layers.Dense(10, activation='softmax'))\n",
    "model.summary()\n",
    "#compile the model\n",
    "model.compile(loss='categorical_crossentropy', optimizer=keras.optimizers.RMSprop(), metrics='accuracy')\n",
    "#model training and evaluation\n",
    "history = model.fit(x_train, y_train, batch_size=128, epochs=12, verbose=1, validation_split=0.2)\n",
    "\n",
    "#visualize in plot\n",
    "    #accuracy \n",
    "plt.plot(history.history['accuracy'])\n",
    "plt.plot(history.history['val_accuracy'])\n",
    "plt.title('model accuracy')\n",
    "plt.ylabel('accuracy')\n",
    "plt.xlabel('epoch')\n",
    "plt.legend(['train', 'validation'], loc='upper left')\n",
    "plt.show()\n",
    "    # \"Loss\"\n",
    "plt.plot(history.history['loss'])\n",
    "plt.plot(history.history['val_loss'])\n",
    "plt.title('model loss')\n",
    "plt.ylabel('loss')\n",
    "plt.xlabel('epoch')\n",
    "plt.legend(['train', 'validation'], loc='upper left')\n",
    "plt.show()\n",
    "\n",
    "loss,accuracy = model.evaluate(x_test, y_test, verbose=0)\n",
    "\n",
    "\n",
    "# Model rectified activation \n",
    "model = keras.Sequential()\n",
    "model.add(keras.layers.Dense(256, input_shape=(784,), activation='relu'))  #the first hidden layer\n",
    "model.add(keras.layers.Dense(10, activation='softmax'))\n",
    "model.summary()\n",
    "#model compile \n",
    "model.compile(loss='categorical_crossentropy', optimizer=keras.optimizers.RMSprop(), metrics='accuracy')\n",
    "#model fit\n",
    "history = model.fit(x_train, y_train, batch_size=128, epochs=12, verbose=1, validation_split=0.2)\n",
    "#visualize plot (same code as before)\n",
    "loss,accuracy = model1.evaluate(x_test, y_test, verbose=0)\n",
    "\n",
    "\n",
    "#Convolution Neural Network\n",
    "(x_train1, y_train1),(x_test1, y_test1)=keras.datasets.mnist.load_data()\n",
    "x_train1 = np.reshape(x_train1, (60000, 28, 28, 1))\n",
    "x_test1 = np.reshape(x_test1, (10000, 28, 28, 1))\n",
    "print(x_train1.shape)\n",
    "print(x_test1.shape)\n",
    "# rescale to values between 0 and 1 \n",
    "x_train1 = x_train1/255\n",
    "x_test1 = x_test1/255\n",
    "y_train1=keras.utils.to_categorical(y_train1, 10)\n",
    "y_test1=keras.utils.to_categorical(y_test1, 10)\n",
    "\n",
    "#model define\n",
    "model1 = keras.Sequential()\n",
    "model1.add(keras.layers.Conv2D(filters=32, kernel_size=(3, 3), activation=\"relu\", input_shape=(28, 28, 1)))\n",
    "model1.add(keras.layers.Conv2D(filters=64, kernel_size=(3, 3), activation=\"relu\"))\n",
    "model1.add(keras.layers.MaxPool2D(pool_size=(2, 2)))\n",
    "model1.add(keras.layers.Flatten())\n",
    "model1.add(keras.layers.Dense(128, activation=\"relu\"))\n",
    "model1.add(keras.layers.Dense(10, activation=\"softmax\"))\n",
    "model1.compile(loss='categorical_crossentropy', optimizer=keras.optimizers.Adadelta(learning_rate=1), metrics='accuracy')\n",
    "model1.summary()\n",
    "#model fit\n",
    "history1 = model1.fit(x_train1, y_train1, batch_size=128, epochs=6, verbose=1, validation_split=0.2)\n",
    "#vizualize in plot\n",
    "loss,accuracy = model1.evaluate(x_test1, y_test1, verbose=0)\n",
    "\n",
    "model2 = keras.Sequential()\n",
    "model2.add(keras.layers.Conv2D(filters=32, kernel_size=(3, 3), activation=\"relu\", input_shape=(28, 28, 1)))\n",
    "model2.add(keras.layers.Conv2D(filters=64, kernel_size=(3, 3), activation=\"relu\"))\n",
    "model2.add(keras.layers.MaxPool2D(pool_size=(2, 2)))\n",
    "model2.add(keras.layers.Dropout(rate=0.25))\n",
    "model2.add(keras.layers.Flatten())\n",
    "model2.add(keras.layers.Dense(128, activation=\"relu\"))\n",
    "model2.add(keras.layers.Dropout(rate=0.5))\n",
    "model2.add(keras.layers.Dense(10, activation=\"softmax\"))\n",
    "model2.compile(loss='categorical_crossentropy', optimizer=keras.optimizers.Adadelta(learning_rate=1), metrics='accuracy')\n",
    "history2 = model2.fit(x_train1, y_train1, batch_size=128, epochs=6, verbose=1, validation_split=0.2)\n",
    "#vizualize in plot\n",
    "loss,accuracy = model1.evaluate(x_test1, y_test1, verbose=0)\n"
   ]
  },
  {
   "cell_type": "code",
   "execution_count": 3,
   "metadata": {},
   "outputs": [],
   "source": [
    "(x_train, y_train),(x_test, y_test)=keras.datasets.mnist.load_data()"
   ]
  },
  {
   "cell_type": "code",
   "execution_count": 4,
   "metadata": {},
   "outputs": [
    {
     "name": "stdout",
     "output_type": "stream",
     "text": [
      "(60000, 28, 28)\n"
     ]
    }
   ],
   "source": [
    "print(x_train.shape)"
   ]
  },
  {
   "cell_type": "code",
   "execution_count": 5,
   "metadata": {},
   "outputs": [],
   "source": [
    "x_train = np.reshape(x_train, (60000, 784))\n",
    "x_test = np.reshape(x_test, (10000, 784))"
   ]
  },
  {
   "cell_type": "code",
   "execution_count": 6,
   "metadata": {},
   "outputs": [
    {
     "data": {
      "text/plain": [
       "(60000, 784)"
      ]
     },
     "execution_count": 6,
     "metadata": {},
     "output_type": "execute_result"
    }
   ],
   "source": [
    "x_train.shape"
   ]
  },
  {
   "cell_type": "code",
   "execution_count": 7,
   "metadata": {},
   "outputs": [
    {
     "data": {
      "text/plain": [
       "(10000, 784)"
      ]
     },
     "execution_count": 7,
     "metadata": {},
     "output_type": "execute_result"
    }
   ],
   "source": [
    "x_test.shape"
   ]
  },
  {
   "cell_type": "code",
   "execution_count": 8,
   "metadata": {},
   "outputs": [],
   "source": [
    "# rescale to values between 0 and 1 \n",
    "x_train = x_train/255\n",
    "x_test = x_test/255"
   ]
  },
  {
   "cell_type": "code",
   "execution_count": 9,
   "metadata": {},
   "outputs": [],
   "source": [
    "y_train=keras.utils.to_categorical(y_train, 10)\n",
    "y_test=keras.utils.to_categorical(y_test, 10)"
   ]
  },
  {
   "cell_type": "code",
   "execution_count": 10,
   "metadata": {},
   "outputs": [
    {
     "data": {
      "text/plain": [
       "array([[0., 0., 0., ..., 0., 0., 0.],\n",
       "       [1., 0., 0., ..., 0., 0., 0.],\n",
       "       [0., 0., 0., ..., 0., 0., 0.],\n",
       "       ...,\n",
       "       [0., 0., 0., ..., 0., 0., 0.],\n",
       "       [0., 0., 0., ..., 0., 0., 0.],\n",
       "       [0., 0., 0., ..., 0., 1., 0.]], dtype=float32)"
      ]
     },
     "execution_count": 10,
     "metadata": {},
     "output_type": "execute_result"
    }
   ],
   "source": [
    "y_train"
   ]
  },
  {
   "cell_type": "markdown",
   "metadata": {},
   "source": [
    "### Model definition\n",
    "multi-layer perceptron (MLP) model"
   ]
  },
  {
   "cell_type": "code",
   "execution_count": 11,
   "metadata": {},
   "outputs": [],
   "source": [
    "model = keras.Sequential()\n",
    "model.add(keras.layers.Dense(256, input_shape=(784,)))\n",
    "model.add(keras.layers.Dense(10, activation='softmax'))"
   ]
  },
  {
   "cell_type": "code",
   "execution_count": 12,
   "metadata": {},
   "outputs": [
    {
     "name": "stdout",
     "output_type": "stream",
     "text": [
      "Model: \"sequential\"\n",
      "_________________________________________________________________\n",
      "Layer (type)                 Output Shape              Param #   \n",
      "=================================================================\n",
      "dense (Dense)                (None, 256)               200960    \n",
      "_________________________________________________________________\n",
      "dense_1 (Dense)              (None, 10)                2570      \n",
      "=================================================================\n",
      "Total params: 203,530\n",
      "Trainable params: 203,530\n",
      "Non-trainable params: 0\n",
      "_________________________________________________________________\n"
     ]
    }
   ],
   "source": [
    "model.summary()"
   ]
  },
  {
   "cell_type": "markdown",
   "metadata": {},
   "source": [
    "Compile the model with suitable loss functions, optimisation procedures, and performance measures"
   ]
  },
  {
   "cell_type": "code",
   "execution_count": 13,
   "metadata": {},
   "outputs": [],
   "source": [
    "model.compile(loss='categorical_crossentropy', optimizer=keras.optimizers.RMSprop(), metrics='accuracy')"
   ]
  },
  {
   "cell_type": "markdown",
   "metadata": {},
   "source": [
    "### Training and evaluation\n",
    "Now we will fit the model to our training set, keeping a history of the performance at\n",
    "each stage. We will use 12 training epochs. We will set aside a random 20% of our\n",
    "data to check performance at each training epoch (which don’t change between\n",
    "epochs). In each training epoch, we will use 128 image-label pairs per batch to\n",
    "improve computational efficiency. We will use the verbose argument to tell us what\n",
    "is happening in each epoch"
   ]
  },
  {
   "cell_type": "code",
   "execution_count": 14,
   "metadata": {},
   "outputs": [
    {
     "name": "stdout",
     "output_type": "stream",
     "text": [
      "Epoch 1/12\n",
      "375/375 [==============================] - 3s 6ms/step - loss: 0.5704 - accuracy: 0.8342 - val_loss: 0.2839 - val_accuracy: 0.9209\n",
      "Epoch 2/12\n",
      "375/375 [==============================] - 1s 2ms/step - loss: 0.3118 - accuracy: 0.9124 - val_loss: 0.2905 - val_accuracy: 0.9189\n",
      "Epoch 3/12\n",
      "375/375 [==============================] - 1s 2ms/step - loss: 0.2849 - accuracy: 0.9186 - val_loss: 0.2744 - val_accuracy: 0.9253\n",
      "Epoch 4/12\n",
      "375/375 [==============================] - 1s 2ms/step - loss: 0.2866 - accuracy: 0.9203 - val_loss: 0.2866 - val_accuracy: 0.9220\n",
      "Epoch 5/12\n",
      "375/375 [==============================] - 1s 2ms/step - loss: 0.2723 - accuracy: 0.9240 - val_loss: 0.2816 - val_accuracy: 0.9236\n",
      "Epoch 6/12\n",
      "375/375 [==============================] - 1s 3ms/step - loss: 0.2799 - accuracy: 0.9231 - val_loss: 0.2764 - val_accuracy: 0.9260\n",
      "Epoch 7/12\n",
      "375/375 [==============================] - 1s 2ms/step - loss: 0.2741 - accuracy: 0.9235 - val_loss: 0.2964 - val_accuracy: 0.9201\n",
      "Epoch 8/12\n",
      "375/375 [==============================] - 1s 2ms/step - loss: 0.2638 - accuracy: 0.9253 - val_loss: 0.2838 - val_accuracy: 0.9234\n",
      "Epoch 9/12\n",
      "375/375 [==============================] - 1s 3ms/step - loss: 0.2670 - accuracy: 0.9238 - val_loss: 0.2746 - val_accuracy: 0.9271\n",
      "Epoch 10/12\n",
      "375/375 [==============================] - 1s 3ms/step - loss: 0.2666 - accuracy: 0.9266 - val_loss: 0.2789 - val_accuracy: 0.9248\n",
      "Epoch 11/12\n",
      "375/375 [==============================] - 1s 3ms/step - loss: 0.2659 - accuracy: 0.9257 - val_loss: 0.2823 - val_accuracy: 0.9226\n",
      "Epoch 12/12\n",
      "375/375 [==============================] - 1s 3ms/step - loss: 0.2592 - accuracy: 0.9294 - val_loss: 0.2853 - val_accuracy: 0.9234\n"
     ]
    }
   ],
   "source": [
    "history = model.fit(x_train, y_train, batch_size=128, epochs=12, verbose=1, validation_split=0.2)"
   ]
  },
  {
   "cell_type": "markdown",
   "metadata": {},
   "source": [
    "### plot"
   ]
  },
  {
   "cell_type": "code",
   "execution_count": 15,
   "metadata": {},
   "outputs": [
    {
     "data": {
      "image/png": "[encoded data removed]",
      "text/plain": [
       "<Figure size 432x288 with 1 Axes>"
      ]
     },
     "metadata": {
      "needs_background": "light"
     },
     "output_type": "display_data"
    },
    {
     "data": {
      "image/png": "[encoded data removed]",
      "text/plain": [
       "<Figure size 432x288 with 1 Axes>"
      ]
     },
     "metadata": {
      "needs_background": "light"
     },
     "output_type": "display_data"
    }
   ],
   "source": [
    "#accuracy \n",
    "plt.plot(history.history['accuracy'])\n",
    "plt.plot(history.history['val_accuracy'])\n",
    "plt.title('model accuracy')\n",
    "plt.ylabel('accuracy')\n",
    "plt.xlabel('epoch')\n",
    "plt.legend(['train', 'validation'], loc='upper left')\n",
    "plt.show()\n",
    "# \"Loss\"\n",
    "plt.plot(history.history['loss'])\n",
    "plt.plot(history.history['val_loss'])\n",
    "plt.title('model loss')\n",
    "plt.ylabel('loss')\n",
    "plt.xlabel('epoch')\n",
    "plt.legend(['train', 'validation'], loc='upper left')\n",
    "plt.show()"
   ]
  },
  {
   "cell_type": "code",
   "execution_count": 16,
   "metadata": {},
   "outputs": [],
   "source": [
    "loss,accuracy = model.evaluate(x_test, y_test, verbose=0)"
   ]
  },
  {
   "cell_type": "code",
   "execution_count": 17,
   "metadata": {},
   "outputs": [
    {
     "data": {
      "text/plain": [
       "(0.2907688617706299, 0.920199990272522)"
      ]
     },
     "execution_count": 17,
     "metadata": {},
     "output_type": "execute_result"
    }
   ],
   "source": [
    "loss,accuracy"
   ]
  },
  {
   "cell_type": "markdown",
   "metadata": {},
   "source": [
    "### Model rectified activation \n",
    "in the first hidden layer"
   ]
  },
  {
   "cell_type": "code",
   "execution_count": 18,
   "metadata": {},
   "outputs": [],
   "source": [
    "model = keras.Sequential()\n",
    "model.add(keras.layers.Dense(256, input_shape=(784,), activation='relu'))  #the first hidden layer\n",
    "model.add(keras.layers.Dense(10, activation='softmax'))"
   ]
  },
  {
   "cell_type": "code",
   "execution_count": 19,
   "metadata": {},
   "outputs": [
    {
     "name": "stdout",
     "output_type": "stream",
     "text": [
      "Model: \"sequential_1\"\n",
      "_________________________________________________________________\n",
      "Layer (type)                 Output Shape              Param #   \n",
      "=================================================================\n",
      "dense_2 (Dense)              (None, 256)               200960    \n",
      "_________________________________________________________________\n",
      "dense_3 (Dense)              (None, 10)                2570      \n",
      "=================================================================\n",
      "Total params: 203,530\n",
      "Trainable params: 203,530\n",
      "Non-trainable params: 0\n",
      "_________________________________________________________________\n"
     ]
    }
   ],
   "source": [
    "model.summary()"
   ]
  },
  {
   "cell_type": "code",
   "execution_count": 20,
   "metadata": {},
   "outputs": [],
   "source": [
    "model.compile(loss='categorical_crossentropy', optimizer=keras.optimizers.RMSprop(), metrics='accuracy')"
   ]
  },
  {
   "cell_type": "code",
   "execution_count": 21,
   "metadata": {},
   "outputs": [
    {
     "name": "stdout",
     "output_type": "stream",
     "text": [
      "Epoch 1/12\n",
      "375/375 [==============================] - 2s 3ms/step - loss: 0.5077 - accuracy: 0.8563 - val_loss: 0.1846 - val_accuracy: 0.9449\n",
      "Epoch 2/12\n",
      "375/375 [==============================] - 1s 3ms/step - loss: 0.1614 - accuracy: 0.9535 - val_loss: 0.1357 - val_accuracy: 0.9597\n",
      "Epoch 3/12\n",
      "375/375 [==============================] - 1s 3ms/step - loss: 0.1023 - accuracy: 0.9698 - val_loss: 0.1029 - val_accuracy: 0.9701\n",
      "Epoch 4/12\n",
      "375/375 [==============================] - 1s 3ms/step - loss: 0.0748 - accuracy: 0.9789 - val_loss: 0.1034 - val_accuracy: 0.9697\n",
      "Epoch 5/12\n",
      "375/375 [==============================] - 1s 3ms/step - loss: 0.0570 - accuracy: 0.9834 - val_loss: 0.0872 - val_accuracy: 0.9749\n",
      "Epoch 6/12\n",
      "375/375 [==============================] - 1s 3ms/step - loss: 0.0448 - accuracy: 0.9868 - val_loss: 0.0883 - val_accuracy: 0.9747\n",
      "Epoch 7/12\n",
      "375/375 [==============================] - 1s 3ms/step - loss: 0.0339 - accuracy: 0.9899 - val_loss: 0.0911 - val_accuracy: 0.9743\n",
      "Epoch 8/12\n",
      "375/375 [==============================] - 1s 3ms/step - loss: 0.0274 - accuracy: 0.9920 - val_loss: 0.0803 - val_accuracy: 0.9790\n",
      "Epoch 9/12\n",
      "375/375 [==============================] - 1s 3ms/step - loss: 0.0223 - accuracy: 0.9940 - val_loss: 0.0816 - val_accuracy: 0.9775\n",
      "Epoch 10/12\n",
      "375/375 [==============================] - 1s 3ms/step - loss: 0.0186 - accuracy: 0.9950 - val_loss: 0.0849 - val_accuracy: 0.9771\n",
      "Epoch 11/12\n",
      "375/375 [==============================] - 1s 3ms/step - loss: 0.0131 - accuracy: 0.9968 - val_loss: 0.0830 - val_accuracy: 0.9785\n",
      "Epoch 12/12\n",
      "375/375 [==============================] - 1s 3ms/step - loss: 0.0114 - accuracy: 0.9975 - val_loss: 0.0899 - val_accuracy: 0.9764\n"
     ]
    }
   ],
   "source": [
    "history = model.fit(x_train, y_train, batch_size=128, epochs=12, verbose=1, validation_split=0.2)"
   ]
  },
  {
   "cell_type": "code",
   "execution_count": 22,
   "metadata": {},
   "outputs": [
    {
     "data": {
      "image/png": "[encoded data removed]",
      "text/plain": [
       "<Figure size 432x288 with 1 Axes>"
      ]
     },
     "metadata": {
      "needs_background": "light"
     },
     "output_type": "display_data"
    },
    {
     "data": {
      "image/png": "[encoded data removed]",
      "text/plain": [
       "<Figure size 432x288 with 1 Axes>"
      ]
     },
     "metadata": {
      "needs_background": "light"
     },
     "output_type": "display_data"
    }
   ],
   "source": [
    "#accuracy \n",
    "plt.plot(history.history['accuracy'])\n",
    "plt.plot(history.history['val_accuracy'])\n",
    "plt.title('model accuracy')\n",
    "plt.ylabel('accuracy')\n",
    "plt.xlabel('epoch')\n",
    "plt.legend(['train', 'validation'], loc='upper left')\n",
    "plt.show()\n",
    "# \"Loss\"\n",
    "plt.plot(history.history['loss'])\n",
    "plt.plot(history.history['val_loss'])\n",
    "plt.title('model loss')\n",
    "plt.ylabel('loss')\n",
    "plt.xlabel('epoch')\n",
    "plt.legend(['train', 'validation'], loc='upper left')\n",
    "plt.show()"
   ]
  },
  {
   "cell_type": "markdown",
   "metadata": {},
   "source": [
    "# Convolutional neural networks"
   ]
  },
  {
   "cell_type": "code",
   "execution_count": 23,
   "metadata": {},
   "outputs": [
    {
     "name": "stdout",
     "output_type": "stream",
     "text": [
      "(60000, 28, 28, 1)\n",
      "(10000, 28, 28, 1)\n"
     ]
    }
   ],
   "source": [
    "(x_train1, y_train1),(x_test1, y_test1)=keras.datasets.mnist.load_data()\n",
    "\n",
    "x_train1 = np.reshape(x_train1, (60000, 28, 28, 1))\n",
    "x_test1 = np.reshape(x_test1, (10000, 28, 28, 1))\n",
    "print(x_train1.shape)\n",
    "print(x_test1.shape)\n",
    "\n",
    "# rescale to values between 0 and 1 \n",
    "x_train1 = x_train1/255\n",
    "x_test1 = x_test1/255"
   ]
  },
  {
   "cell_type": "code",
   "execution_count": 24,
   "metadata": {},
   "outputs": [],
   "source": [
    "y_train1=keras.utils.to_categorical(y_train1, 10)\n",
    "y_test1=keras.utils.to_categorical(y_test1, 10)"
   ]
  },
  {
   "cell_type": "code",
   "execution_count": 25,
   "metadata": {},
   "outputs": [],
   "source": [
    "model1 = keras.Sequential()\n",
    "model1.add(keras.layers.Conv2D(filters=32, kernel_size=(3, 3), activation=\"relu\", input_shape=(28, 28, 1)))\n",
    "model1.add(keras.layers.Conv2D(filters=64, kernel_size=(3, 3), activation=\"relu\"))\n",
    "model1.add(keras.layers.MaxPool2D(pool_size=(2, 2)))\n",
    "model1.add(keras.layers.Flatten())\n",
    "model1.add(keras.layers.Dense(128, activation=\"relu\"))\n",
    "model1.add(keras.layers.Dense(10, activation=\"softmax\"))\n",
    "model1.compile(loss='categorical_crossentropy', optimizer=keras.optimizers.Adadelta(learning_rate=1), metrics='accuracy')"
   ]
  },
  {
   "cell_type": "code",
   "execution_count": 26,
   "metadata": {},
   "outputs": [
    {
     "name": "stdout",
     "output_type": "stream",
     "text": [
      "Model: \"sequential_2\"\n",
      "_________________________________________________________________\n",
      "Layer (type)                 Output Shape              Param #   \n",
      "=================================================================\n",
      "conv2d (Conv2D)              (None, 26, 26, 32)        320       \n",
      "_________________________________________________________________\n",
      "conv2d_1 (Conv2D)            (None, 24, 24, 64)        18496     \n",
      "_________________________________________________________________\n",
      "max_pooling2d (MaxPooling2D) (None, 12, 12, 64)        0         \n",
      "_________________________________________________________________\n",
      "flatten (Flatten)            (None, 9216)              0         \n",
      "_________________________________________________________________\n",
      "dense_4 (Dense)              (None, 128)               1179776   \n",
      "_________________________________________________________________\n",
      "dense_5 (Dense)              (None, 10)                1290      \n",
      "=================================================================\n",
      "Total params: 1,199,882\n",
      "Trainable params: 1,199,882\n",
      "Non-trainable params: 0\n",
      "_________________________________________________________________\n"
     ]
    }
   ],
   "source": [
    "model1.summary()"
   ]
  },
  {
   "cell_type": "code",
   "execution_count": 27,
   "metadata": {},
   "outputs": [
    {
     "name": "stdout",
     "output_type": "stream",
     "text": [
      "Epoch 1/6\n",
      "375/375 [==============================] - 41s 108ms/step - loss: 0.5168 - accuracy: 0.8374 - val_loss: 0.0711 - val_accuracy: 0.9791\n",
      "Epoch 2/6\n",
      "375/375 [==============================] - 40s 106ms/step - loss: 0.0557 - accuracy: 0.9826 - val_loss: 0.0540 - val_accuracy: 0.9835\n",
      "Epoch 3/6\n",
      "375/375 [==============================] - 40s 105ms/step - loss: 0.0343 - accuracy: 0.9890 - val_loss: 0.0449 - val_accuracy: 0.9866\n",
      "Epoch 4/6\n",
      "375/375 [==============================] - 40s 107ms/step - loss: 0.0215 - accuracy: 0.9938 - val_loss: 0.0434 - val_accuracy: 0.9873\n",
      "Epoch 5/6\n",
      "375/375 [==============================] - 42s 111ms/step - loss: 0.0131 - accuracy: 0.9963 - val_loss: 0.0403 - val_accuracy: 0.9892\n",
      "Epoch 6/6\n",
      "375/375 [==============================] - 39s 104ms/step - loss: 0.0083 - accuracy: 0.9974 - val_loss: 0.0443 - val_accuracy: 0.9887\n"
     ]
    }
   ],
   "source": [
    "history1 = model1.fit(x_train1, y_train1, batch_size=128, epochs=6, verbose=1, validation_split=0.2)"
   ]
  },
  {
   "cell_type": "code",
   "execution_count": 28,
   "metadata": {},
   "outputs": [
    {
     "data": {
      "image/png": "[encoded data removed]",
      "text/plain": [
       "<Figure size 432x288 with 1 Axes>"
      ]
     },
     "metadata": {
      "needs_background": "light"
     },
     "output_type": "display_data"
    },
    {
     "data": {
      "image/png": "[encoded data removed]",
      "text/plain": [
       "<Figure size 432x288 with 1 Axes>"
      ]
     },
     "metadata": {
      "needs_background": "light"
     },
     "output_type": "display_data"
    }
   ],
   "source": [
    "#accuracy \n",
    "plt.plot(history1.history['accuracy'])\n",
    "plt.plot(history1.history['val_accuracy'])\n",
    "plt.title('model accuracy')\n",
    "plt.ylabel('accuracy')\n",
    "plt.xlabel('epoch')\n",
    "plt.legend(['train', 'validation'], loc='upper left')\n",
    "plt.show()\n",
    "# \"Loss\"\n",
    "plt.plot(history1.history['loss'])\n",
    "plt.plot(history1.history['val_loss'])\n",
    "plt.title('model loss')\n",
    "plt.ylabel('loss')\n",
    "plt.xlabel('epoch')\n",
    "plt.legend(['train', 'validation'], loc='upper left')\n",
    "plt.show()"
   ]
  },
  {
   "cell_type": "code",
   "execution_count": 29,
   "metadata": {},
   "outputs": [],
   "source": [
    "loss,accuracy = model1.evaluate(x_test1, y_test1, verbose=0)"
   ]
  },
  {
   "cell_type": "code",
   "execution_count": 30,
   "metadata": {},
   "outputs": [
    {
     "data": {
      "text/plain": [
       "(0.0355498343706131, 0.9896000027656555)"
      ]
     },
     "execution_count": 30,
     "metadata": {},
     "output_type": "execute_result"
    }
   ],
   "source": [
    "loss,accuracy"
   ]
  },
  {
   "cell_type": "code",
   "execution_count": 31,
   "metadata": {},
   "outputs": [],
   "source": [
    "model2 = keras.Sequential()\n",
    "model2.add(keras.layers.Conv2D(filters=32, kernel_size=(3, 3), activation=\"relu\", input_shape=(28, 28, 1)))\n",
    "model2.add(keras.layers.Conv2D(filters=64, kernel_size=(3, 3), activation=\"relu\"))\n",
    "model2.add(keras.layers.MaxPool2D(pool_size=(2, 2)))\n",
    "model2.add(keras.layers.Dropout(rate=0.25))\n",
    "model2.add(keras.layers.Flatten())\n",
    "model2.add(keras.layers.Dense(128, activation=\"relu\"))\n",
    "model2.add(keras.layers.Dropout(rate=0.5))\n",
    "model2.add(keras.layers.Dense(10, activation=\"softmax\"))\n",
    "model2.compile(loss='categorical_crossentropy', optimizer=keras.optimizers.Adadelta(learning_rate=1), metrics='accuracy')"
   ]
  },
  {
   "cell_type": "code",
   "execution_count": 32,
   "metadata": {},
   "outputs": [
    {
     "name": "stdout",
     "output_type": "stream",
     "text": [
      "Epoch 1/6\n",
      "375/375 [==============================] - 40s 104ms/step - loss: 0.6295 - accuracy: 0.7941 - val_loss: 0.0713 - val_accuracy: 0.9792\n",
      "Epoch 2/6\n",
      "375/375 [==============================] - 40s 106ms/step - loss: 0.1036 - accuracy: 0.9677 - val_loss: 0.0510 - val_accuracy: 0.9858\n",
      "Epoch 3/6\n",
      "375/375 [==============================] - 41s 108ms/step - loss: 0.0743 - accuracy: 0.9770 - val_loss: 0.0457 - val_accuracy: 0.9864\n",
      "Epoch 4/6\n",
      "375/375 [==============================] - 42s 111ms/step - loss: 0.0594 - accuracy: 0.9814 - val_loss: 0.0447 - val_accuracy: 0.9871\n",
      "Epoch 5/6\n",
      "375/375 [==============================] - 41s 109ms/step - loss: 0.0527 - accuracy: 0.9845 - val_loss: 0.0372 - val_accuracy: 0.9899\n",
      "Epoch 6/6\n",
      "375/375 [==============================] - 42s 111ms/step - loss: 0.0430 - accuracy: 0.9870 - val_loss: 0.0387 - val_accuracy: 0.9898\n"
     ]
    }
   ],
   "source": [
    "history2 = model2.fit(x_train1, y_train1, batch_size=128, epochs=6, verbose=1, validation_split=0.2)"
   ]
  },
  {
   "cell_type": "code",
   "execution_count": 33,
   "metadata": {},
   "outputs": [
    {
     "data": {
      "image/png": "[encoded data removed]",
      "text/plain": [
       "<Figure size 432x288 with 1 Axes>"
      ]
     },
     "metadata": {
      "needs_background": "light"
     },
     "output_type": "display_data"
    },
    {
     "data": {
      "image/png": "[encoded data removed]",
      "text/plain": [
       "<Figure size 432x288 with 1 Axes>"
      ]
     },
     "metadata": {
      "needs_background": "light"
     },
     "output_type": "display_data"
    }
   ],
   "source": [
    "#accuracy \n",
    "plt.plot(history2.history['accuracy'])\n",
    "plt.plot(history2.history['val_accuracy'])\n",
    "plt.title('model accuracy')\n",
    "plt.ylabel('accuracy')\n",
    "plt.xlabel('epoch')\n",
    "plt.legend(['train', 'validation'], loc='upper left')\n",
    "plt.show()\n",
    "# \"Loss\"\n",
    "plt.plot(history2.history['loss'])\n",
    "plt.plot(history2.history['val_loss'])\n",
    "plt.title('model loss')\n",
    "plt.ylabel('loss')\n",
    "plt.xlabel('epoch')\n",
    "plt.legend(['train', 'validation'], loc='upper left')\n",
    "plt.show()"
   ]
  },
  {
   "cell_type": "code",
   "execution_count": 34,
   "metadata": {},
   "outputs": [
    {
     "data": {
      "text/plain": [
       "(0.0355498343706131, 0.9896000027656555)"
      ]
     },
     "execution_count": 34,
     "metadata": {},
     "output_type": "execute_result"
    }
   ],
   "source": [
    "loss,accuracy = model1.evaluate(x_test1, y_test1, verbose=0)\n",
    "loss,accuracy"
   ]
  }
 ],
 "metadata": {
  "kernelspec": {
   "display_name": "Python 3",
   "language": "python",
   "name": "python3"
  },
  "language_info": {
   "codemirror_mode": {
    "name": "ipython",
    "version": 3
   },
   "file_extension": ".py",
   "mimetype": "text/x-python",
   "name": "python",
   "nbconvert_exporter": "python",
   "pygments_lexer": "ipython3",
   "version": "3.8.3"
  }
 },
 "nbformat": 4,
 "nbformat_minor": 4
}
