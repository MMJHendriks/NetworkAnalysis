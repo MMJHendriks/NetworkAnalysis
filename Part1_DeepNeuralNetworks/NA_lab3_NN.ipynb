{
 "cells": [
  {
   "cell_type": "markdown",
   "metadata": {},
   "source": [
    "# Network Analysis \n",
    "# Lab Assignment 1: Image recognition using deep networks \n",
    "  \n",
    "By: Eva Steenhoven (9969632), Rosanne Vreugenhil (4163869), Robin Reijers (5069769), and Mirthe Hendriks (6866999) "
   ]
  },
  {
   "cell_type": "markdown",
   "metadata": {},
   "source": [
    "## Exercise three: Low-level functions"
   ]
  },
  {
   "cell_type": "code",
   "execution_count": 1,
   "metadata": {},
   "outputs": [],
   "source": [
    "import numpy as np\n",
    "from tensorflow import keras\n",
    "import matplotlib.pyplot as plt\n",
    "import tensorflow as tf"
   ]
  },
  {
   "cell_type": "markdown",
   "metadata": {},
   "source": [
    "### Preparing the image "
   ]
  },
  {
   "cell_type": "code",
   "execution_count": 9,
   "metadata": {},
   "outputs": [
    {
     "name": "stdout",
     "output_type": "stream",
     "text": [
      "[[[-1.  1.]\n",
      "  [-1.  1.]\n",
      "  [-1.  1.]\n",
      "  [-1.  1.]\n",
      "  [-1.  7.]\n",
      "  [-1.  1.]]\n",
      "\n",
      " [[ 1.  1.]\n",
      "  [ 1.  1.]\n",
      "  [ 2.  2.]\n",
      "  [ 2.  4.]\n",
      "  [ 1.  1.]\n",
      "  [ 1.  1.]]\n",
      "\n",
      " [[ 1.  1.]\n",
      "  [ 1.  1.]\n",
      "  [ 1.  1.]\n",
      "  [ 8.  9.]\n",
      "  [ 1.  1.]\n",
      "  [ 1.  1.]]\n",
      "\n",
      " [[ 1.  1.]\n",
      "  [ 1.  1.]\n",
      "  [ 1.  1.]\n",
      "  [ 1.  1.]\n",
      "  [ 1.  4.]\n",
      "  [ 3.  3.]]\n",
      "\n",
      " [[ 1.  1.]\n",
      "  [ 1.  1.]\n",
      "  [ 6.  1.]\n",
      "  [ 6.  1.]\n",
      "  [ 1.  7.]\n",
      "  [ 1.  1.]]\n",
      "\n",
      " [[ 2.  1.]\n",
      "  [ 2.  1.]\n",
      "  [ 2.  1.]\n",
      "  [ 2.  1.]\n",
      "  [ 2.  1.]\n",
      "  [ 2.  8.]]]\n"
     ]
    }
   ],
   "source": [
    "img=np.ones((6,6,2))  #block, row, column \n",
    "\n",
    "img[0,:,0]=-1\n",
    "img[0,4,1] = 7\n",
    "img[1,2,:]=2\n",
    "img[1,3,:]=2\n",
    "img[1,3,1] = 4\n",
    "img[1,4,:]=1\n",
    "img[2,3,1] = 9\n",
    "img[2,3,0] = 8\n",
    "img[3,5,0] = 3\n",
    "img[3,5,1] = 3\n",
    "img[3,5,0] = 3\n",
    "img[3,4,1] = 4\n",
    "img[4,2,0] = 6\n",
    "img[4,3,0] = 6\n",
    "img[4,4,1] = 7\n",
    "img[4,4,1] = 7\n",
    "img[5,5,1] = 8\n",
    "img[5,:,0] = 2\n",
    "\n",
    "\n",
    "print(img)"
   ]
  },
  {
   "cell_type": "markdown",
   "metadata": {},
   "source": [
    "### Preparing filters"
   ]
  },
  {
   "cell_type": "code",
   "execution_count": 4,
   "metadata": {},
   "outputs": [],
   "source": [
    "filter1 = np.zeros((3,3,2))"
   ]
  },
  {
   "cell_type": "code",
   "execution_count": 5,
   "metadata": {},
   "outputs": [
    {
     "data": {
      "text/plain": [
       "array([[[ 0.,  1.],\n",
       "        [ 0.,  1.],\n",
       "        [ 0.,  1.]],\n",
       "\n",
       "       [[ 0.,  0.],\n",
       "        [ 0.,  0.],\n",
       "        [ 0.,  0.]],\n",
       "\n",
       "       [[-1.,  0.],\n",
       "        [-1.,  0.],\n",
       "        [-1.,  0.]]])"
      ]
     },
     "execution_count": 5,
     "metadata": {},
     "output_type": "execute_result"
    }
   ],
   "source": [
    "filter1[1,:,:] = 0\n",
    "filter1[0,:,1]= 1   #middle is horizontal \n",
    "filter1[2,:,0]=-1\n",
    "filter1"
   ]
  },
  {
   "cell_type": "code",
   "execution_count": 6,
   "metadata": {},
   "outputs": [],
   "source": [
    "filter2 = np.zeros((3,3,2))"
   ]
  },
  {
   "cell_type": "code",
   "execution_count": 7,
   "metadata": {},
   "outputs": [
    {
     "data": {
      "text/plain": [
       "array([[[-1.,  1.],\n",
       "        [-1.,  1.],\n",
       "        [-1.,  1.]],\n",
       "\n",
       "       [[ 0.,  0.],\n",
       "        [ 0.,  0.],\n",
       "        [ 0.,  0.]],\n",
       "\n",
       "       [[ 1., -1.],\n",
       "        [ 1., -1.],\n",
       "        [ 1., -1.]]])"
      ]
     },
     "execution_count": 7,
     "metadata": {},
     "output_type": "execute_result"
    }
   ],
   "source": [
    "filter2[0,:,0]=-1\n",
    "filter2[0,:,1]= 1   \n",
    "filter2[2,:,0]=1\n",
    "filter2[2,:,1]=-1\n",
    "filter2"
   ]
  },
  {
   "cell_type": "markdown",
   "metadata": {},
   "source": [
    "### Question 20: Convolutional filter "
   ]
  },
  {
   "cell_type": "code",
   "execution_count": 8,
   "metadata": {},
   "outputs": [],
   "source": [
    "def conv_filter(kernels, input_img):\n",
    "   \n",
    "    featuremap=np.zeros((input_img.shape[0] - kernels.shape[1]+1, input_img.shape[1] - kernels.shape[2]+1,kernels.shape[0]))  #x, y, z welke dimensie \n",
    "    print(featuremap.shape)\n",
    "\n",
    "    kernel_count = -1\n",
    "    for kernel in kernels:\n",
    "        kernel_count += 1\n",
    "        for fmap in range(featuremap.shape[2]):\n",
    "            for col in range(featuremap.shape[1]):\n",
    "                for row in range(featuremap.shape[0]):   #voor elke output output berekenen, spotlight image*kernel\n",
    "                    spotlight = input_img[row:(row+kernel.shape[0]), col:(col+kernel.shape[1]),fmap]\n",
    "                    \n",
    "                    featuremap[row,col,kernel_count] = featuremap[row,col,kernel_count] + np.sum(spotlight * kernel[:,:,fmap])\n",
    "\n",
    "    return featuremap"
   ]
  },
  {
   "cell_type": "code",
   "execution_count": 10,
   "metadata": {},
   "outputs": [
    {
     "name": "stdout",
     "output_type": "stream",
     "text": [
      "(4, 4, 2)\n",
      "[[[ 0.  6.]\n",
      "  [-7.  5.]\n",
      "  [-1. 11.]\n",
      "  [-1. 11.]]\n",
      "\n",
      " [[ 1.  0.]\n",
      "  [ 4.  2.]\n",
      "  [ 4. -1.]\n",
      "  [ 1. -1.]]\n",
      "\n",
      " [[-5.  5.]\n",
      "  [-2. 11.]\n",
      "  [-2.  5.]\n",
      "  [ 3.  0.]]\n",
      "\n",
      " [[-3.  3.]\n",
      "  [-3.  3.]\n",
      "  [ 0.  6.]\n",
      "  [ 2. -1.]]]\n"
     ]
    }
   ],
   "source": [
    "filters = np.array([filter1, filter2])\n",
    "#print(filters)\n",
    "featuremaps=conv_filter(filters, img)\n",
    "print(featuremaps)"
   ]
  },
  {
   "cell_type": "code",
   "execution_count": 11,
   "metadata": {},
   "outputs": [
    {
     "data": {
      "text/plain": [
       "(4, 4, 2)"
      ]
     },
     "execution_count": 11,
     "metadata": {},
     "output_type": "execute_result"
    }
   ],
   "source": [
    "featuremaps.shape"
   ]
  },
  {
   "cell_type": "markdown",
   "metadata": {},
   "source": [
    "### Question 21: Rectified linear activation "
   ]
  },
  {
   "cell_type": "code",
   "execution_count": 12,
   "metadata": {},
   "outputs": [],
   "source": [
    "# rectified linear function\n",
    "def rectified(x):\n",
    "    return np.maximum(0, x)\n",
    "\n",
    "def relu(input_img):\n",
    "    input_img = rectified(input_img) \n",
    "    return input_img"
   ]
  },
  {
   "cell_type": "code",
   "execution_count": 13,
   "metadata": {},
   "outputs": [
    {
     "data": {
      "text/plain": [
       "array([[[ 0.,  6.],\n",
       "        [ 0.,  5.],\n",
       "        [ 0., 11.],\n",
       "        [ 0., 11.]],\n",
       "\n",
       "       [[ 1.,  0.],\n",
       "        [ 4.,  2.],\n",
       "        [ 4.,  0.],\n",
       "        [ 1.,  0.]],\n",
       "\n",
       "       [[ 0.,  5.],\n",
       "        [ 0., 11.],\n",
       "        [ 0.,  5.],\n",
       "        [ 3.,  0.]],\n",
       "\n",
       "       [[ 0.,  3.],\n",
       "        [ 0.,  3.],\n",
       "        [ 0.,  6.],\n",
       "        [ 2.,  0.]]])"
      ]
     },
     "execution_count": 13,
     "metadata": {},
     "output_type": "execute_result"
    }
   ],
   "source": [
    "relu(featuremaps)"
   ]
  },
  {
   "cell_type": "code",
   "execution_count": 14,
   "metadata": {},
   "outputs": [
    {
     "data": {
      "text/plain": [
       "(4, 4, 2)"
      ]
     },
     "execution_count": 14,
     "metadata": {},
     "output_type": "execute_result"
    }
   ],
   "source": [
    "relu_fmap=relu(featuremaps)\n",
    "relu_fmap.shape"
   ]
  },
  {
   "cell_type": "markdown",
   "metadata": {},
   "source": [
    "### Question 22: Max pooling "
   ]
  },
  {
   "cell_type": "code",
   "execution_count": 15,
   "metadata": {},
   "outputs": [],
   "source": [
    "def max_pooling(input_fmap, size=2, stride=2): \n",
    "    #Preparing the output of the pooling operation. \n",
    "    pool_out = np.zeros((np.uint16((input_fmap.shape[0]/size)),\n",
    "                            np.uint16((input_fmap.shape[1]/size)), \n",
    "                            input_fmap.shape[2]))\n",
    "    print(pool_out.shape)\n",
    "    for fmap in range(input_fmap.shape[2]):\n",
    "        for col in range(0,input_fmap.shape[1], size):\n",
    "            for row in range(0, input_fmap.shape[0], size):\n",
    "                max_spotlight = input_fmap[row:(row+size), col:(col+size), fmap]\n",
    "                pool_out[row//size,col//size,fmap] = np.max(input_fmap[row:row+size, col:col+size, fmap]) \n",
    "    return pool_out"
   ]
  },
  {
   "cell_type": "code",
   "execution_count": 16,
   "metadata": {},
   "outputs": [
    {
     "name": "stdout",
     "output_type": "stream",
     "text": [
      "(2, 2, 2)\n"
     ]
    },
    {
     "data": {
      "text/plain": [
       "array([[[ 4.,  6.],\n",
       "        [ 4., 11.]],\n",
       "\n",
       "       [[ 0., 11.],\n",
       "        [ 3.,  6.]]])"
      ]
     },
     "execution_count": 16,
     "metadata": {},
     "output_type": "execute_result"
    }
   ],
   "source": [
    "pooled_fmap=max_pooling(relu_fmap,2,2)\n",
    "pooled_fmap"
   ]
  },
  {
   "cell_type": "markdown",
   "metadata": {},
   "source": [
    "### Question 23: Normalisation "
   ]
  },
  {
   "cell_type": "code",
   "execution_count": 17,
   "metadata": {},
   "outputs": [],
   "source": [
    "def normalize(x, mean, sd):    #mean 0, standard deviation 1 \n",
    "    value = (x - mean) / sd\n",
    "    return value\n",
    "\n",
    "def normalization(input_map):\n",
    "    for fmap in range(input_map.shape[2]):\n",
    "        mean = np.mean(input_map[:,:,fmap])\n",
    "        standdev = np.std(input_map[:,:,fmap])\n",
    "        input_map[:,:,fmap] = normalize(input_map[:,:,fmap], mean, standdev)\n",
    "    \n",
    "    return input_map"
   ]
  },
  {
   "cell_type": "code",
   "execution_count": 18,
   "metadata": {},
   "outputs": [
    {
     "data": {
      "text/plain": [
       "array([[[ 0.76249285, -1.        ],\n",
       "        [ 0.76249285,  1.        ]],\n",
       "\n",
       "       [[-1.67748427,  1.        ],\n",
       "        [ 0.15249857, -1.        ]]])"
      ]
     },
     "execution_count": 18,
     "metadata": {},
     "output_type": "execute_result"
    }
   ],
   "source": [
    "norm_fmap=normalization(pooled_fmap)\n",
    "norm_fmap"
   ]
  },
  {
   "cell_type": "markdown",
   "metadata": {},
   "source": [
    "### Question 24: Fully connected layer"
   ]
  },
  {
   "cell_type": "code",
   "execution_count": 19,
   "metadata": {},
   "outputs": [],
   "source": [
    "#24: fully connected layer\n",
    "def connectedlayer(inputmap, noutput, bias):\n",
    "    flatmap = inputmap.flatten()\n",
    "    weights = np.random.rand(len(flatmap), noutput) #geeft een numpy array met random waardes. Dimensie van de matrix geef je door length(input) en noutput.\n",
    "    output = np.dot(flatmap, weights) + bias #vermenigvuldigd de matrices met elkaar om een output te krijgen\n",
    "    return output"
   ]
  },
  {
   "cell_type": "code",
   "execution_count": 20,
   "metadata": {},
   "outputs": [
    {
     "data": {
      "text/plain": [
       "array([2.48737338, 0.62093306, 2.10904643])"
      ]
     },
     "execution_count": 20,
     "metadata": {},
     "output_type": "execute_result"
    }
   ],
   "source": [
    "connected_fmap = connectedlayer(inputmap =norm_fmap, noutput=3, bias=1)\n",
    "connected_fmap"
   ]
  },
  {
   "cell_type": "markdown",
   "metadata": {},
   "source": [
    "### Question 25: Classification probabilities softmax"
   ]
  },
  {
   "cell_type": "code",
   "execution_count": 24,
   "metadata": {},
   "outputs": [],
   "source": [
    "def softmax(inputmap):\n",
    "    e_x = np.exp(inputmap)\n",
    "    return e_x / e_x.sum()"
   ]
  },
  {
   "cell_type": "code",
   "execution_count": 25,
   "metadata": {},
   "outputs": [
    {
     "data": {
      "text/plain": [
       "array([0.54357286, 0.08407619, 0.37235094])"
      ]
     },
     "execution_count": 25,
     "metadata": {},
     "output_type": "execute_result"
    }
   ],
   "source": [
    "softmax(connected_fmap)"
   ]
  }
 ],
 "metadata": {
  "kernelspec": {
   "display_name": "Python 3",
   "language": "python",
   "name": "python3"
  },
  "language_info": {
   "codemirror_mode": {
    "name": "ipython",
    "version": 3
   },
   "file_extension": ".py",
   "mimetype": "text/x-python",
   "name": "python",
   "nbconvert_exporter": "python",
   "pygments_lexer": "ipython3",
   "version": "3.8.3"
  }
 },
 "nbformat": 4,
 "nbformat_minor": 4
}
